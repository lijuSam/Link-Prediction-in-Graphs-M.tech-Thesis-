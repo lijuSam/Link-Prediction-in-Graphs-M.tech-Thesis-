{
  "nbformat": 4,
  "nbformat_minor": 0,
  "metadata": {
    "colab": {
      "name": "Friends's of Friend's Algorithm.ipynb",
      "provenance": []
    },
    "kernelspec": {
      "name": "python3",
      "display_name": "Python 3"
    },
    "language_info": {
      "name": "python"
    }
  },
  "cells": [
    {
      "cell_type": "code",
      "metadata": {
        "colab": {
          "base_uri": "https://localhost:8080/",
          "height": 0
        },
        "id": "6rVSRGfFDq0E",
        "outputId": "d232eafb-3489-4f26-e271-05bc10db3c34"
      },
      "source": [
        "# Implementation of Friend's of Friend's Algorithm on a small input \n",
        "# Main idea is to find existing groups and number of new\n",
        "# Main idea is to find groups that can be formed.\n",
        "class Graph:\n",
        "    def __init__(self, V):\n",
        "        self.V = V\n",
        "        self.adj = [[] for i in range(V)]\n",
        "     \n",
        "    # Adds a relation as a two way\n",
        "    # edge of undirected graph.\n",
        "    def addRelation(self, v, w):\n",
        "         \n",
        "        # Since indexing is 0 based,\n",
        "        # reducing edge numbers by 1.\n",
        "        v -= 1\n",
        "        w -= 1\n",
        "        self.adj[v].append(w)\n",
        "        self.adj[w].append(v)\n",
        "     \n",
        "    # Returns count of not visited\n",
        "    # nodes reachable from v using DFS.\n",
        "    def countUtil(self, v, visited):\n",
        "        count = 1\n",
        "        visited[v] = True\n",
        "        i = 0\n",
        "        while i != len(self.adj[v]):\n",
        "            if (not visited[self.adj[v][i]]):\n",
        "                count = count + self.countUtil(self.adj[v][i],\n",
        "                                                      visited)\n",
        "            i += 1\n",
        "        return count\n",
        "     \n",
        "    # A DFS based function to Count number\n",
        "    # of existing groups and number of new\n",
        "    # groups that can be formed using a\n",
        "    # member of every group.\n",
        "    def countGroups(self):\n",
        "         \n",
        "        # Mark all the vertices as\n",
        "        # not visited\n",
        "        visited = [0] * self.V\n",
        "     \n",
        "        existing_groups = 0\n",
        "        new_groups = 1\n",
        "        for i in range(self.V):\n",
        "             \n",
        "            # If not in any group.\n",
        "            if (visited[i] == False):\n",
        "                existing_groups += 1\n",
        "                 \n",
        "                # Number of new groups that\n",
        "                # can be formed.\n",
        "                new_groups = (new_groups *\n",
        "                              self.countUtil(i, visited))\n",
        "         \n",
        "        if (existing_groups == 1):\n",
        "            new_groups = 0\n",
        "         \n",
        "        print(\"No. of existing groups are\",\n",
        "                           existing_groups)\n",
        "        print(\"No. of new groups that\",\n",
        "              \"can be formed are\", new_groups)\n",
        " \n",
        "# Driver code\n",
        "if __name__ == '__main__':\n",
        " \n",
        "    n = 6\n",
        " \n",
        "    # Create a graph given in the above diagram\n",
        "    g = Graph(n) # total 6 people\n",
        "    g.addRelation(1, 2) # 1 and 2 are friends\n",
        "    g.addRelation(3, 4) # 3 and 4 are friends\n",
        "    g.addRelation(5, 6) # 5 and 6 are friends\n",
        " \n",
        "    g.countGroups()"
      ],
      "execution_count": 2,
      "outputs": [
        {
          "output_type": "stream",
          "name": "stdout",
          "text": [
            "No. of existing groups are 3\n",
            "No. of new groups that can be formed are 8\n"
          ]
        }
      ]
    },
    {
      "cell_type": "code",
      "metadata": {
        "id": "HYP1frdbEw8q"
      },
      "source": [
        ""
      ],
      "execution_count": 2,
      "outputs": []
    }
  ]
}